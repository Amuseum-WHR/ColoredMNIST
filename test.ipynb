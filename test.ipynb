{
 "cells": [
  {
   "cell_type": "code",
   "execution_count": 1,
   "metadata": {},
   "outputs": [],
   "source": [
    "import os\n",
    "import torch\n",
    "from tqdm import *\n",
    "from tools import show_tensor,change_color,judge_color\n",
    "from model import LeNet\n",
    "\n",
    "from datasets import ColoredMNIST\n",
    "from torch.utils.data import DataLoader\n"
   ]
  },
  {
   "cell_type": "code",
   "execution_count": 7,
   "metadata": {},
   "outputs": [],
   "source": [
    "BATCH_SIZE = 64\n",
    "EPOCH = 10\n",
    "LEARNING_RATE = 1e-3\n",
    "EPS = 1e-8\n",
    "BETAS = [0.9, 0.999]\n",
    "WEIGHT_DECAY = 1e-4"
   ]
  },
  {
   "cell_type": "code",
   "execution_count": 11,
   "metadata": {},
   "outputs": [],
   "source": [
    "data_dir = '/my/datasets/path'\n",
    "env = [0.1, 0.9] # image with label = 0~4 is green with p of 0.9,and image with label = 5~9 is red with p of 0.9\n",
    "colormnist = ColoredMNIST(data_dir, env) # contains len(env) dataset\n",
    "dataset_train = colormnist[0]\n",
    "dataset_test = colormnist[1]\n",
    "train_loaders = DataLoader(dataset=dataset_train, batch_size=BATCH_SIZE, shuffle=True)\n",
    "test_loaders = DataLoader(dataset=dataset_test, batch_size=BATCH_SIZE, shuffle=True)\n"
   ]
  },
  {
   "cell_type": "code",
   "execution_count": 9,
   "metadata": {},
   "outputs": [],
   "source": [
    "def test(model, loader):\n",
    "    model.eval()\n",
    "    num = 0\n",
    "    correct = 0\n",
    "    with torch.no_grad():\n",
    "        for i, (img, label) in enumerate(loader):\n",
    "            pre_label = torch.argmax(model(img), dim=1)\n",
    "            correct += sum(pre_label==label)\n",
    "            num += len(label)\n",
    "    model.train()\n",
    "    return correct/num\n",
    "        "
   ]
  },
  {
   "cell_type": "code",
   "execution_count": 10,
   "metadata": {},
   "outputs": [
    {
     "name": "stderr",
     "output_type": "stream",
     "text": [
      "Epoch [0/10]: 100%|██████████| 547/547 [00:06<00:00, 87.63it/s, loss=0.135, loss_cls=0.134, loss_rec=18.2]  \n"
     ]
    },
    {
     "name": "stdout",
     "output_type": "stream",
     "text": [
      "train acc: 0.94863 test acc: 0.94951\n"
     ]
    },
    {
     "name": "stderr",
     "output_type": "stream",
     "text": [
      "Epoch [1/10]: 100%|██████████| 547/547 [00:05<00:00, 91.49it/s, loss=0.146, loss_cls=0.143, loss_rec=21.9]  \n"
     ]
    },
    {
     "name": "stdout",
     "output_type": "stream",
     "text": [
      "train acc: 0.96954 test acc: 0.96954\n"
     ]
    },
    {
     "name": "stderr",
     "output_type": "stream",
     "text": [
      "Epoch [2/10]: 100%|██████████| 547/547 [00:06<00:00, 91.13it/s, loss=0.0291, loss_cls=0.0266, loss_rec=25.1] \n"
     ]
    },
    {
     "name": "stdout",
     "output_type": "stream",
     "text": [
      "train acc: 0.98054 test acc: 0.97743\n"
     ]
    },
    {
     "name": "stderr",
     "output_type": "stream",
     "text": [
      "Epoch [3/10]: 100%|██████████| 547/547 [00:05<00:00, 92.58it/s, loss=0.0178, loss_cls=0.0152, loss_rec=25.8]  \n"
     ]
    },
    {
     "name": "stdout",
     "output_type": "stream",
     "text": [
      "train acc: 0.98051 test acc: 0.97837\n"
     ]
    },
    {
     "name": "stderr",
     "output_type": "stream",
     "text": [
      "Epoch [4/10]: 100%|██████████| 547/547 [00:06<00:00, 86.29it/s, loss=0.038, loss_cls=0.0346, loss_rec=33.4]   \n"
     ]
    },
    {
     "name": "stdout",
     "output_type": "stream",
     "text": [
      "train acc: 0.98486 test acc: 0.98186\n"
     ]
    },
    {
     "name": "stderr",
     "output_type": "stream",
     "text": [
      "Epoch [5/10]: 100%|██████████| 547/547 [00:06<00:00, 86.16it/s, loss=0.00569, loss_cls=0.00308, loss_rec=26.1]\n"
     ]
    },
    {
     "name": "stdout",
     "output_type": "stream",
     "text": [
      "train acc: 0.98906 test acc: 0.98354\n"
     ]
    },
    {
     "name": "stderr",
     "output_type": "stream",
     "text": [
      "Epoch [6/10]: 100%|██████████| 547/547 [00:06<00:00, 90.55it/s, loss=0.00544, loss_cls=0.00262, loss_rec=28.2] \n"
     ]
    },
    {
     "name": "stdout",
     "output_type": "stream",
     "text": [
      "train acc: 0.98966 test acc: 0.98451\n"
     ]
    },
    {
     "name": "stderr",
     "output_type": "stream",
     "text": [
      "Epoch [7/10]: 100%|██████████| 547/547 [00:05<00:00, 93.14it/s, loss=0.0387, loss_cls=0.0363, loss_rec=24.1]  \n"
     ]
    },
    {
     "name": "stdout",
     "output_type": "stream",
     "text": [
      "train acc: 0.98954 test acc: 0.98320\n"
     ]
    },
    {
     "name": "stderr",
     "output_type": "stream",
     "text": [
      "Epoch [8/10]: 100%|██████████| 547/547 [00:05<00:00, 93.06it/s, loss=0.0308, loss_cls=0.0278, loss_rec=29.3]  \n"
     ]
    },
    {
     "name": "stdout",
     "output_type": "stream",
     "text": [
      "train acc: 0.99303 test acc: 0.98597\n"
     ]
    },
    {
     "name": "stderr",
     "output_type": "stream",
     "text": [
      "Epoch [9/10]: 100%|██████████| 547/547 [00:05<00:00, 93.74it/s, loss=0.0625, loss_cls=0.0597, loss_rec=27.7]   \n"
     ]
    },
    {
     "name": "stdout",
     "output_type": "stream",
     "text": [
      "train acc: 0.99406 test acc: 0.98671\n"
     ]
    }
   ],
   "source": [
    "p_red = 0.5\n",
    "p_green = 0.5\n",
    "\n",
    "lamb1 = 1e-4\n",
    "lamb2 = 1e-4\n",
    "\n",
    "model = LeNet()\n",
    "optimizer = torch.optim.Adam(model.parameters(), lr = LEARNING_RATE, betas = BETAS, eps = EPS, weight_decay=WEIGHT_DECAY)\n",
    "loss_fn = torch.nn.CrossEntropyLoss()\n",
    "loss_recon = torch.nn.MSELoss()\n",
    "for epoch in range(EPOCH):\n",
    "    loop = tqdm(enumerate(train_loaders), total=len(train_loaders))\n",
    "    for i, (img, label) in loop:\n",
    "        reverse_img = change_color(img)\n",
    "        pre_label = model(img)\n",
    "        pre_label_2 = model(reverse_img)\n",
    "        color_vector = judge_color(img)\n",
    "        red_vector = (color_vector * p_red).expand(10,len(label)).T\n",
    "        green_vector = ((1-color_vector) * p_green).expand(10,len(label)).T\n",
    "\n",
    "        # print(red_vector.shape)\n",
    "        do_label =  pre_label * red_vector + pre_label_2 * green_vector\n",
    "\n",
    "        loss_cls = loss_fn(do_label, label)\n",
    "        loss_recon_1 = loss_recon(do_label, pre_label)\n",
    "        loss_recon_2 = loss_recon(do_label, pre_label_2)\n",
    "        loss = loss_cls + lamb1 * loss_recon_1 + lamb2 * loss_recon_2\n",
    "        # print(loss, loss_cls, loss_recon_1, loss_recon_2)\n",
    "        loss.backward()\n",
    "        optimizer.step()\n",
    "        optimizer.zero_grad()\n",
    "\n",
    "        loop.set_description(f'Epoch [{epoch}/{EPOCH}]')\n",
    "        loop.set_postfix(loss = loss.item(), loss_cls = loss_cls.item(), loss_rec = loss_recon_1.item()+loss_recon_2.item())\n",
    "    test_acc = test(model, test_loaders)\n",
    "    train_acc = test(model, train_loaders)\n",
    "    print('train acc: {:.5f} test acc: {:.5f}'.format(train_acc, test_acc))\n",
    "\n",
    "\n",
    "\n",
    "# judge_color(img)\n",
    "# for i in range(32):\n",
    "#     show_tensor(img[i])\n",
    "# show_tensor(change_color(img)[0])"
   ]
  },
  {
   "cell_type": "code",
   "execution_count": 16,
   "metadata": {},
   "outputs": [
    {
     "data": {
      "image/png": "[encoded data removed]",
      "text/plain": [
       "<PIL.Image.Image image mode=RGB size=28x28>"
      ]
     },
     "metadata": {},
     "output_type": "display_data"
    },
    {
     "name": "stdout",
     "output_type": "stream",
     "text": [
      "label: 8\n"
     ]
    },
    {
     "data": {
      "image/png": "[encoded data removed]",
      "text/plain": [
       "<PIL.Image.Image image mode=RGB size=28x28>"
      ]
     },
     "metadata": {},
     "output_type": "display_data"
    },
    {
     "name": "stdout",
     "output_type": "stream",
     "text": [
      "label: 1\n"
     ]
    },
    {
     "data": {
      "image/png": "[encoded data removed]",
      "text/plain": [
       "<PIL.Image.Image image mode=RGB size=28x28>"
      ]
     },
     "metadata": {},
     "output_type": "display_data"
    },
    {
     "name": "stdout",
     "output_type": "stream",
     "text": [
      "label: 1\n"
     ]
    },
    {
     "data": {
      "image/png": "[encoded data removed]",
      "text/plain": [
       "<PIL.Image.Image image mode=RGB size=28x28>"
      ]
     },
     "metadata": {},
     "output_type": "display_data"
    },
    {
     "name": "stdout",
     "output_type": "stream",
     "text": [
      "label: 8\n"
     ]
    },
    {
     "data": {
      "image/png": "[encoded data removed]",
      "text/plain": [
       "<PIL.Image.Image image mode=RGB size=28x28>"
      ]
     },
     "metadata": {},
     "output_type": "display_data"
    },
    {
     "name": "stdout",
     "output_type": "stream",
     "text": [
      "label: 4\n"
     ]
    },
    {
     "data": {
      "image/png": "[encoded data removed]",
      "text/plain": [
       "<PIL.Image.Image image mode=RGB size=28x28>"
      ]
     },
     "metadata": {},
     "output_type": "display_data"
    },
    {
     "name": "stdout",
     "output_type": "stream",
     "text": [
      "label: 8\n"
     ]
    },
    {
     "data": {
      "image/png": "[encoded data removed]",
      "text/plain": [
       "<PIL.Image.Image image mode=RGB size=28x28>"
      ]
     },
     "metadata": {},
     "output_type": "display_data"
    },
    {
     "name": "stdout",
     "output_type": "stream",
     "text": [
      "label: 1\n"
     ]
    },
    {
     "data": {
      "image/png": "[encoded data removed]",
      "text/plain": [
       "<PIL.Image.Image image mode=RGB size=28x28>"
      ]
     },
     "metadata": {},
     "output_type": "display_data"
    },
    {
     "name": "stdout",
     "output_type": "stream",
     "text": [
      "label: 9\n"
     ]
    },
    {
     "data": {
      "image/png": "[encoded data removed]",
      "text/plain": [
       "<PIL.Image.Image image mode=RGB size=28x28>"
      ]
     },
     "metadata": {},
     "output_type": "display_data"
    },
    {
     "name": "stdout",
     "output_type": "stream",
     "text": [
      "label: 5\n"
     ]
    },
    {
     "data": {
      "image/png": "[encoded data removed]",
      "text/plain": [
       "<PIL.Image.Image image mode=RGB size=28x28>"
      ]
     },
     "metadata": {},
     "output_type": "display_data"
    },
    {
     "name": "stdout",
     "output_type": "stream",
     "text": [
      "label: 7\n"
     ]
    }
   ],
   "source": [
    "model.eval()\n",
    "with torch.no_grad():\n",
    "    for epoch in range(EPOCH):\n",
    "        for i, (img, label) in enumerate(test_loaders):\n",
    "            show_tensor(img[i])\n",
    "            pre = model(img)\n",
    "            pre = torch.argmax(pre, dim=1)\n",
    "            print('label:', pre[0].item())\n",
    "            break"
   ]
  },
  {
   "cell_type": "code",
   "execution_count": 17,
   "metadata": {},
   "outputs": [
    {
     "data": {
      "image/png": "[encoded data removed]",
      "text/plain": [
       "<PIL.Image.Image image mode=RGB size=28x28>"
      ]
     },
     "metadata": {},
     "output_type": "display_data"
    },
    {
     "name": "stdout",
     "output_type": "stream",
     "text": [
      "label: 1\n"
     ]
    },
    {
     "data": {
      "image/png": "[encoded data removed]",
      "text/plain": [
       "<PIL.Image.Image image mode=RGB size=28x28>"
      ]
     },
     "metadata": {},
     "output_type": "display_data"
    },
    {
     "name": "stdout",
     "output_type": "stream",
     "text": [
      "label: 4\n"
     ]
    },
    {
     "data": {
      "image/png": "[encoded data removed]",
      "text/plain": [
       "<PIL.Image.Image image mode=RGB size=28x28>"
      ]
     },
     "metadata": {},
     "output_type": "display_data"
    },
    {
     "name": "stdout",
     "output_type": "stream",
     "text": [
      "label: 9\n"
     ]
    },
    {
     "data": {
      "image/png": "[encoded data removed]",
      "text/plain": [
       "<PIL.Image.Image image mode=RGB size=28x28>"
      ]
     },
     "metadata": {},
     "output_type": "display_data"
    },
    {
     "name": "stdout",
     "output_type": "stream",
     "text": [
      "label: 3\n"
     ]
    },
    {
     "data": {
      "image/png": "[encoded data removed]",
      "text/plain": [
       "<PIL.Image.Image image mode=RGB size=28x28>"
      ]
     },
     "metadata": {},
     "output_type": "display_data"
    },
    {
     "name": "stdout",
     "output_type": "stream",
     "text": [
      "label: 1\n"
     ]
    },
    {
     "data": {
      "image/png": "[encoded data removed]",
      "text/plain": [
       "<PIL.Image.Image image mode=RGB size=28x28>"
      ]
     },
     "metadata": {},
     "output_type": "display_data"
    },
    {
     "name": "stdout",
     "output_type": "stream",
     "text": [
      "label: 2\n"
     ]
    },
    {
     "data": {
      "image/png": "[encoded data removed]",
      "text/plain": [
       "<PIL.Image.Image image mode=RGB size=28x28>"
      ]
     },
     "metadata": {},
     "output_type": "display_data"
    },
    {
     "name": "stdout",
     "output_type": "stream",
     "text": [
      "label: 0\n"
     ]
    },
    {
     "data": {
      "image/png": "[encoded data removed]",
      "text/plain": [
       "<PIL.Image.Image image mode=RGB size=28x28>"
      ]
     },
     "metadata": {},
     "output_type": "display_data"
    },
    {
     "name": "stdout",
     "output_type": "stream",
     "text": [
      "label: 7\n"
     ]
    },
    {
     "data": {
      "image/png": "[encoded data removed]",
      "text/plain": [
       "<PIL.Image.Image image mode=RGB size=28x28>"
      ]
     },
     "metadata": {},
     "output_type": "display_data"
    },
    {
     "name": "stdout",
     "output_type": "stream",
     "text": [
      "label: 2\n"
     ]
    },
    {
     "data": {
      "image/png": "[encoded data removed]",
      "text/plain": [
       "<PIL.Image.Image image mode=RGB size=28x28>"
      ]
     },
     "metadata": {},
     "output_type": "display_data"
    },
    {
     "name": "stdout",
     "output_type": "stream",
     "text": [
      "label: 3\n"
     ]
    }
   ],
   "source": [
    "model.eval()\n",
    "with torch.no_grad():\n",
    "    for epoch in range(EPOCH):\n",
    "        for i, (img, label) in enumerate(train_loaders):\n",
    "            show_tensor(img[i])\n",
    "            pre = model(img)\n",
    "            pre = torch.argmax(pre, dim=1)\n",
    "            print('label:', pre[0].item())\n",
    "            break"
   ]
  }
 ],
 "metadata": {
  "kernelspec": {
   "display_name": "env1",
   "language": "python",
   "name": "python3"
  },
  "language_info": {
   "codemirror_mode": {
    "name": "ipython",
    "version": 3
   },
   "file_extension": ".py",
   "mimetype": "text/x-python",
   "name": "python",
   "nbconvert_exporter": "python",
   "pygments_lexer": "ipython3",
   "version": "3.7.13"
  },
  "orig_nbformat": 4,
  "vscode": {
   "interpreter": {
    "hash": "bc8c60f99e2e962c0e4a3e9c9f27c1bb5f2a586f6d03b97348d9b6648bd2cf92"
   }
  }
 },
 "nbformat": 4,
 "nbformat_minor": 2
}
